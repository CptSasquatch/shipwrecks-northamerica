{
 "cells": [
  {
   "cell_type": "code",
   "execution_count": 2,
   "metadata": {},
   "outputs": [],
   "source": [
    "# Import dependencies\n",
    "import pandas as pd\n",
    "import numpy as np\n",
    "import json \n",
    "import sqlite3\n",
    "pd.set_option('max_colwidth', 400)"
   ]
  },
  {
   "cell_type": "code",
   "execution_count": null,
   "metadata": {},
   "outputs": [],
   "source": [
    "# Read the data into a Pandas DataFrame\n",
    "ship_wreck_info_df1 = pd.read_excel('AWOIS_Wrecks.xls')\n",
    "ship_wreck_info_df1.head()"
   ]
  },
  {
   "cell_type": "code",
   "execution_count": null,
   "metadata": {},
   "outputs": [],
   "source": [
    "# remove the columns that are not needed\n",
    "ship_wreck_info_df1 = ship_wreck_info_df1.drop(columns=['RECRD', 'DEPTH', 'SOUNDING_TYPE'], axis=1)\n",
    "# rename the columns\n",
    "ship_wreck_info_df1 = ship_wreck_info_df1.rename(columns={'VESSLTERMS': 'name', 'FEATURE_TYPE': 'type', 'LATDEC': 'lat', 'LONDEC': 'lng', 'GP_QUALITY': 'accuracy', 'YEARSUNK': 'year_sunk', 'HISTORY': 'history'})\n",
    "ship_wreck_info_df1.head()\n",
    "# fill the null values of the year_sunk column with 0\n",
    "ship_wreck_info_df1['year_sunk'] = ship_wreck_info_df1['year_sunk'].fillna(0)\n",
    "# convert the year_sunk column to integer\n",
    "ship_wreck_info_df1['year_sunk'] = ship_wreck_info_df1['year_sunk'].astype(int)\n",
    "# drop the rows with nan values\n",
    "ship_wreck_info_clean = ship_wreck_info_df1.dropna()\n",
    "# add an id column\n",
    "ship_wreck_info_clean['id'] = ship_wreck_info_clean.index + 1\n",
    "# reorder the columns\n",
    "ship_wreck_info_clean = ship_wreck_info_clean[['id', 'name', 'type', 'lat', 'lng', 'accuracy', 'year_sunk', 'history']]"
   ]
  },
  {
   "cell_type": "code",
   "execution_count": null,
   "metadata": {},
   "outputs": [],
   "source": [
    "# find the longest number of characters in the history column\n",
    "ship_wreck_info_clean['history'].str.len().max()"
   ]
  },
  {
   "cell_type": "code",
   "execution_count": null,
   "metadata": {},
   "outputs": [],
   "source": [
    "ship_wreck_info_clean['accuracy'].unique()"
   ]
  },
  {
   "cell_type": "code",
   "execution_count": null,
   "metadata": {},
   "outputs": [],
   "source": [
    "# save the cleaned data to a csv file\n",
    "ship_wreck_info_clean.to_csv('shipwreck.csv', index=False)\n",
    "# save the cleaned data to a json file\n",
    "ship_wreck_info_clean.to_json('shipwreck.json', orient='records')"
   ]
  },
  {
   "cell_type": "code",
   "execution_count": 3,
   "metadata": {},
   "outputs": [],
   "source": [
    "# create database from the shipwreck.csv file\n",
    "conn = sqlite3.connect('shipwreck.sqlite')\n",
    "c = conn.cursor()\n",
    "\n"
   ]
  },
  {
   "cell_type": "code",
   "execution_count": 12,
   "metadata": {},
   "outputs": [
    {
     "data": {
      "text/plain": [
       "<sqlite3.Cursor at 0x1fb684abdc0>"
      ]
     },
     "execution_count": 12,
     "metadata": {},
     "output_type": "execute_result"
    }
   ],
   "source": [
    "# create a table with id as primary key\n",
    "c.execute('''CREATE TABLE wrecks(id INTEGER PRIMARY KEY DESC, name TEXT, type TEXT, lat REAL, lng REAL, accuracy TEXT, year_sunk INTEGER, history TEXT)''')"
   ]
  },
  {
   "cell_type": "code",
   "execution_count": 13,
   "metadata": {},
   "outputs": [],
   "source": [
    "# add csv data to the database\n",
    "wrecks = pd.read_csv('shipwreck.csv')\n",
    "# add the data to the database\n",
    "wrecks.to_sql('wrecks', conn, if_exists='append', index=False)"
   ]
  },
  {
   "cell_type": "code",
   "execution_count": 8,
   "metadata": {},
   "outputs": [
    {
     "data": {
      "text/plain": [
       "<sqlite3.Cursor at 0x1fb684abc70>"
      ]
     },
     "execution_count": 8,
     "metadata": {},
     "output_type": "execute_result"
    }
   ],
   "source": [
    "# remove the wrecks table\n",
    "c.execute('''DROP TABLE wrecks''')"
   ]
  },
  {
   "cell_type": "code",
   "execution_count": 4,
   "metadata": {},
   "outputs": [],
   "source": [
    "# close the connection\n",
    "conn.close()"
   ]
  }
 ],
 "metadata": {
  "kernelspec": {
   "display_name": "PythonData",
   "language": "python",
   "name": "python3"
  },
  "language_info": {
   "codemirror_mode": {
    "name": "ipython",
    "version": 3
   },
   "file_extension": ".py",
   "mimetype": "text/x-python",
   "name": "python",
   "nbconvert_exporter": "python",
   "pygments_lexer": "ipython3",
   "version": "3.7.7"
  },
  "orig_nbformat": 4
 },
 "nbformat": 4,
 "nbformat_minor": 2
}
